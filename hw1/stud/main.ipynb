{
 "cells": [
  {
   "cell_type": "markdown",
   "metadata": {
    "colab_type": "text",
    "id": "ixVT906l8Zt7"
   },
   "source": [
    "# Import data and preprocessing"
   ]
  },
  {
   "cell_type": "markdown",
   "metadata": {},
   "source": [
    "### Set paths based on colab or local"
   ]
  },
  {
   "cell_type": "code",
   "execution_count": 1,
   "metadata": {},
   "outputs": [],
   "source": [
    "try:\n",
    "  from google.colab import drive\n",
    "  IN_COLAB = True\n",
    "except:\n",
    "  IN_COLAB = False\n",
    "\n",
    "if (IN_COLAB):\n",
    "    drive.mount('/content/drive')\n",
    "    import sys\n",
    "    sys.path.append(\"/content/drive/My Drive/nlp2020-hw1-master/hw1/stud\")\n",
    "    \n",
    "    train_path = \"/content/drive/My Drive/nlp2020-hw1-master/data/train.tsv\"\n",
    "    dev_path = \"/content/drive/My Drive/nlp2020-hw1-master/data/dev.tsv\"\n",
    "    test_path = \"/content/drive/My Drive/nlp2020-hw1-master/data/test.tsv\"\n",
    "    \n",
    "    sentences_vocabulary_path = \"/content/drive/My Drive/nlp2020-hw1-master/model/sentences_vocabulary.pt\"\n",
    "    embedding_path = \"/content/drive/My Drive/nlp2020-hw1-master/model/wiki-news-300d-1M.vec\"\n",
    "    embedding_layer_path = \"/content/drive/My Drive/nlp2020-hw1-master/model/embedding_layer.pt\"\n",
    "    \n",
    "    model_path = \"/content/drive/My Drive/nlp2020-hw1-master/model/model.pt\"\n",
    "    \n",
    "else:\n",
    "    train_path = \"../../data/train.tsv\"\n",
    "    dev_path = \"../../data/dev.tsv\"\n",
    "    test_path = \"../../data/test.tsv\"\n",
    "    \n",
    "    sentences_vocabulary_path = \"../../model/sentences_vocabulary.pt\"\n",
    "    embedding_path = \"../../model/wiki-news-300d-1M.vec\"\n",
    "    embedding_layer_path = \"../../model/embedding_layer.pt\"\n",
    "    \n",
    "    model_path = \"../../model/model.pt\""
   ]
  },
  {
   "cell_type": "markdown",
   "metadata": {},
   "source": [
    "### Import modules"
   ]
  },
  {
   "cell_type": "code",
   "execution_count": 2,
   "metadata": {
    "colab": {
     "base_uri": "https://localhost:8080/",
     "height": 73
    },
    "colab_type": "code",
    "id": "3NGa03hw8Ztf",
    "outputId": "73a05d6a-42d6-4066-b4d5-ce83350bb6f1"
   },
   "outputs": [],
   "source": [
    "import torch\n",
    "import torch.nn as nn\n",
    "import torch.nn.functional as F\n",
    "import torch.optim as optim\n",
    "from torch.utils.data import Dataset, DataLoader\n",
    "\n",
    "import numpy as np\n",
    "from sklearn.metrics import confusion_matrix\n",
    "from sklearn.metrics import plot_confusion_matrix\n",
    "from sklearn.metrics import f1_score\n",
    "from sklearn.metrics import average_precision_score\n",
    "\n",
    "import matplotlib.pyplot as plt\n",
    "import seaborn as sn\n",
    "import pandas as pd\n",
    "\n",
    "from my_model import MyModel, HParam\n",
    "from tools import import_data\n",
    "from preprocessing import *\n",
    "from prediction import *\n",
    "from train import Trainer"
   ]
  },
  {
   "cell_type": "markdown",
   "metadata": {
    "colab_type": "text",
    "id": "GBQac7hF8Zt-"
   },
   "source": [
    "## Create the dataset for pytorch"
   ]
  },
  {
   "cell_type": "markdown",
   "metadata": {
    "colab_type": "text",
    "id": "5duolleu8ZuJ"
   },
   "source": [
    "### Import data: create list[list[string]]"
   ]
  },
  {
   "cell_type": "code",
   "execution_count": 3,
   "metadata": {
    "colab": {
     "base_uri": "https://localhost:8080/",
     "height": 146
    },
    "colab_type": "code",
    "id": "T9R3E-xo8ZuO",
    "outputId": "480cb474-2c65-4783-a4a4-92c09c91a60e"
   },
   "outputs": [
    {
     "name": "stdout",
     "output_type": "stream",
     "text": [
      "['Burgdorf', 'had', 'brought', 'a', 'capsule', 'of', 'cyanide', 'for', 'the', 'occasion', '.']\n",
      "['PER', 'O', 'O', 'O', 'O', 'O', 'O', 'O', 'O', 'O', 'O']\n",
      "['Terry', 'Daniher', 'and', 'his', 'brother', 'Neale', 'would', 'come', 'via', 'a', 'trade', 'with', 'South', 'Melbourne', ',', 'and', 'Roger', 'Merrett', 'joined', 'soon', 'afterwards', 'to', 'form', 'the', 'nucleus', 'of', 'what', 'would', 'become', 'the', 'formidable', 'Essendon', 'sides', 'of', 'the', '1980s', '.']\n",
      "['PER', 'PER', 'O', 'O', 'O', 'PER', 'O', 'O', 'O', 'O', 'O', 'O', 'ORG', 'ORG', 'O', 'O', 'PER', 'PER', 'O', 'O', 'O', 'O', 'O', 'O', 'O', 'O', 'O', 'O', 'O', 'O', 'O', 'ORG', 'O', 'O', 'O', 'O', 'O']\n",
      "['But', 'her', 'remarks', 'about', 'Eugene', 'were', 'made', 'years', 'later', ',', 'and', 'only', 'then', 'after', 'he', 'had', 'severely', 'mauled', 'the', 'armies', 'of', 'her', 'brother-in-law', ',', 'Louis', 'XIV', '.']\n",
      "['O', 'O', 'O', 'O', 'PER', 'O', 'O', 'O', 'O', 'O', 'O', 'O', 'O', 'O', 'O', 'O', 'O', 'O', 'O', 'O', 'O', 'O', 'O', 'O', 'PER', 'PER', 'O']\n"
     ]
    }
   ],
   "source": [
    "train_sentences, train_labels = import_data (train_path)\n",
    "dev_sentences, dev_labels = import_data (dev_path)\n",
    "test_sentences, test_labels = import_data (test_path)\n",
    "\n",
    "for i in range(3):\n",
    "    print (train_sentences[i])\n",
    "    print (train_labels[i])"
   ]
  },
  {
   "cell_type": "markdown",
   "metadata": {
    "colab_type": "text",
    "id": "2TqKbUo08Zuh"
   },
   "source": [
    "### Create windows "
   ]
  },
  {
   "cell_type": "code",
   "execution_count": 4,
   "metadata": {
    "colab": {
     "base_uri": "https://localhost:8080/",
     "height": 146
    },
    "colab_type": "code",
    "id": "MswwpLTA8Zuk",
    "outputId": "481ad90e-0d50-468b-b3bf-d7b873127acb"
   },
   "outputs": [],
   "source": [
    "windows_sentences_train = create_windows(train_sentences, HParam.window_size, HParam.window_shift)\n",
    "windows_labels_train = create_windows(train_labels, HParam.window_size, HParam.window_shift)\n",
    "windows_sentences_dev = create_windows(dev_sentences, HParam.window_size, HParam.window_shift)\n",
    "windows_labels_dev = create_windows(dev_labels, HParam.window_size, HParam.window_shift)"
   ]
  },
  {
   "cell_type": "markdown",
   "metadata": {
    "colab_type": "text",
    "id": "nyV45-oG8Zuy"
   },
   "source": [
    "### Create vocabularies"
   ]
  },
  {
   "cell_type": "code",
   "execution_count": 5,
   "metadata": {
    "colab": {
     "base_uri": "https://localhost:8080/",
     "height": 55
    },
    "colab_type": "code",
    "id": "YZkQOsVW8Zu1",
    "outputId": "4fb90354-6a6f-44f1-8f15-acdc99375184"
   },
   "outputs": [],
   "source": [
    "sentences_vocabulary = create_vocabulary(train_sentences)\n",
    "torch.save(sentences_vocabulary, sentences_vocabulary_path)"
   ]
  },
  {
   "cell_type": "code",
   "execution_count": 8,
   "metadata": {
    "colab": {
     "base_uri": "https://localhost:8080/",
     "height": 35
    },
    "colab_type": "code",
    "id": "a9A8zfKi8ZvD",
    "outputId": "e9d05566-57cb-4515-dc33-5a21039b73c7"
   },
   "outputs": [
    {
     "name": "stdout",
     "output_type": "stream",
     "text": [
      "{'PER': 0.0, 'LOC': 1.0, 'ORG': 2.0, 'O': 3.0, None: 4.0}\n"
     ]
    }
   ],
   "source": [
    "labels_vocabulary = create_labels_vocabulary()\n",
    "\n",
    "print (labels_vocabulary)"
   ]
  },
  {
   "cell_type": "markdown",
   "metadata": {},
   "source": [
    "### Load or generate a new embedding layer from pretrained embeddings"
   ]
  },
  {
   "cell_type": "code",
   "execution_count": 6,
   "metadata": {
    "colab": {},
    "colab_type": "code",
    "id": "7HnmDW0R5sY1"
   },
   "outputs": [],
   "source": [
    "embedding_layer = torch.load(embedding_layer_path)\n",
    "\n",
    "#embedding_matrix = create_embedding(embedding_path, sentences_vocabulary, HParam.embedding_size)\n",
    "#embedding_layer = nn.Embedding.from_pretrained(embedding_matrix, HParam.freeze)"
   ]
  },
  {
   "cell_type": "markdown",
   "metadata": {
    "colab_type": "text",
    "id": "p78Me51I8ZvS"
   },
   "source": [
    "### Encode sentences and labels in windows"
   ]
  },
  {
   "cell_type": "code",
   "execution_count": 9,
   "metadata": {
    "colab": {
     "base_uri": "https://localhost:8080/",
     "height": 91
    },
    "colab_type": "code",
    "id": "EmzpcXcP8ZvV",
    "outputId": "d497b637-c208-45ec-e606-3e44d0f174d4"
   },
   "outputs": [],
   "source": [
    "train_sentences_enc = encode_sentences_in_windows(windows_sentences_train, sentences_vocabulary)\n",
    "dev_sentences_enc = encode_sentences_in_windows(windows_sentences_dev, sentences_vocabulary)"
   ]
  },
  {
   "cell_type": "code",
   "execution_count": 10,
   "metadata": {
    "colab": {
     "base_uri": "https://localhost:8080/",
     "height": 91
    },
    "colab_type": "code",
    "id": "GnlEs0J78Zvf",
    "outputId": "8a5d05c2-77f6-4a28-ba9e-3efdf516500f"
   },
   "outputs": [],
   "source": [
    "train_labels_enc = encode_labels_in_windows(windows_labels_train, labels_vocabulary)\n",
    "dev_labels_enc = encode_labels_in_windows(windows_labels_dev, labels_vocabulary)"
   ]
  },
  {
   "cell_type": "markdown",
   "metadata": {
    "colab_type": "text",
    "id": "nEk7wS708Zvp"
   },
   "source": [
    "### Create train and dev dataset"
   ]
  },
  {
   "cell_type": "code",
   "execution_count": 11,
   "metadata": {
    "colab": {
     "base_uri": "https://localhost:8080/",
     "height": 90
    },
    "colab_type": "code",
    "id": "Jwk0gUdu8Zvr",
    "outputId": "2e493067-7d4c-4c30-bf3c-edb880ff62e2"
   },
   "outputs": [
    {
     "name": "stdout",
     "output_type": "stream",
     "text": [
      "torch.Size([100])\n",
      "torch.Size([100])\n",
      "torch.Size([100])\n",
      "torch.Size([100])\n"
     ]
    }
   ],
   "source": [
    "train_dataset = DataLoader(NERDataset(train_sentences_enc, train_labels_enc, sentences_vocabulary, labels_vocabulary), batch_size=HParam.batch_size)\n",
    "dev_dataset = DataLoader(NERDataset(dev_sentences_enc, dev_labels_enc, sentences_vocabulary, labels_vocabulary), batch_size=HParam.batch_size)"
   ]
  },
  {
   "cell_type": "markdown",
   "metadata": {
    "colab_type": "text",
    "id": "cxkPpefv8Zv4"
   },
   "source": [
    "# Training"
   ]
  },
  {
   "cell_type": "code",
   "execution_count": 12,
   "metadata": {
    "colab": {
     "base_uri": "https://localhost:8080/",
     "height": 35
    },
    "colab_type": "code",
    "id": "G9vmFmoE8Zv6",
    "outputId": "ef8ba658-3adb-4a8f-b737-8b61b52afe08"
   },
   "outputs": [
    {
     "name": "stdout",
     "output_type": "stream",
     "text": [
      "GPU not available, CPU used\n"
     ]
    }
   ],
   "source": [
    "# torch.cuda.is_available() checks and returns a Boolean True if a GPU is available, else it'll return False\n",
    "is_cuda = torch.cuda.is_available()\n",
    "\n",
    "# If we have a GPU available, we'll set our device to GPU. We'll use this device variable later in our code.\n",
    "if is_cuda:\n",
    "    device = torch.device(\"cuda\")\n",
    "    print(\"GPU is available\")\n",
    "else:\n",
    "    device = torch.device(\"cpu\")\n",
    "    print(\"GPU not available, CPU used\")"
   ]
  },
  {
   "cell_type": "markdown",
   "metadata": {
    "colab_type": "text",
    "id": "thEK_Mht8ZwE"
   },
   "source": [
    "### Build the model"
   ]
  },
  {
   "cell_type": "code",
   "execution_count": 13,
   "metadata": {
    "colab": {
     "base_uri": "https://localhost:8080/",
     "height": 162
    },
    "colab_type": "code",
    "id": "9wu-cBXQ8ZwH",
    "outputId": "5bb9392f-7d8f-4da0-ab68-323134fdfeb9"
   },
   "outputs": [
    {
     "data": {
      "text/plain": [
       "MyModel(\n",
       "  (word_embedding): Embedding(100843, 300)\n",
       "  (gru): GRU(300, 100, batch_first=True, bidirectional=True)\n",
       "  (fc): Linear(in_features=200, out_features=50, bias=True)\n",
       "  (relu): ReLU()\n",
       "  (dropout): Dropout(p=0.15, inplace=False)\n",
       "  (fc2): Linear(in_features=50, out_features=5, bias=True)\n",
       ")"
      ]
     },
     "execution_count": 13,
     "metadata": {},
     "output_type": "execute_result"
    }
   ],
   "source": [
    "# Instantiate the model\n",
    "model = MyModel(\n",
    "    input_size=len(sentences_vocabulary), \n",
    "    output_size=len(labels_vocabulary),\n",
    "    embedding_layer=embedding_layer)\n",
    "# We'll also set the model to the device that we defined earlier (default is CPU)\n",
    "model.to(device)"
   ]
  },
  {
   "cell_type": "markdown",
   "metadata": {
    "colab_type": "text",
    "id": "6rnsNUgJ8ZwV"
   },
   "source": [
    "### Build the trainer"
   ]
  },
  {
   "cell_type": "code",
   "execution_count": 14,
   "metadata": {
    "colab": {},
    "colab_type": "code",
    "id": "PTxclCTy8ZwX"
   },
   "outputs": [],
   "source": [
    "trainer = Trainer(\n",
    "    model = model,\n",
    "    loss_function = nn.CrossEntropyLoss(ignore_index=int(labels_vocabulary[None])),\n",
    "    optimizer = optim.Adam(model.parameters(), lr=HParam.lr)\n",
    ")"
   ]
  },
  {
   "cell_type": "markdown",
   "metadata": {
    "colab_type": "text",
    "id": "R32-BcEp8Zwp"
   },
   "source": [
    "### Load/train then save the model"
   ]
  },
  {
   "cell_type": "code",
   "execution_count": 15,
   "metadata": {
    "colab": {
     "base_uri": "https://localhost:8080/",
     "height": 341
    },
    "colab_type": "code",
    "id": "XedkchBs8Zwt",
    "outputId": "997361ea-33cf-4978-9c5c-6eaac6e9c1ff",
    "scrolled": true
   },
   "outputs": [
    {
     "name": "stderr",
     "output_type": "stream",
     "text": [
      " 33%|███▎      | 1/3 [12:56<25:53, 776.86s/it]"
     ]
    },
    {
     "name": "stdout",
     "output_type": "stream",
     "text": [
      "\n",
      "epoch:  1 avg_epoch_loss:  0.21572113107074867 val_loss:  0.073417033948775\n"
     ]
    },
    {
     "name": "stderr",
     "output_type": "stream",
     "text": [
      "\r",
      " 67%|██████▋   | 2/3 [30:13<14:14, 854.72s/it]"
     ]
    },
    {
     "name": "stdout",
     "output_type": "stream",
     "text": [
      "\n",
      "epoch:  2 avg_epoch_loss:  0.10942265764995293 val_loss:  0.0671337814552003\n"
     ]
    },
    {
     "name": "stderr",
     "output_type": "stream",
     "text": [
      "100%|██████████| 3/3 [46:23<00:00, 927.75s/it]"
     ]
    },
    {
     "name": "stdout",
     "output_type": "stream",
     "text": [
      "\n",
      "epoch:  3 avg_epoch_loss:  0.09286687877419945 val_loss:  0.06933500765469568\n",
      "Finished Training\n"
     ]
    },
    {
     "name": "stderr",
     "output_type": "stream",
     "text": [
      "\n"
     ]
    },
    {
     "data": {
      "image/png": "[encoded data removed]",
      "text/plain": [
       "<Figure size 432x288 with 1 Axes>"
      ]
     },
     "metadata": {
      "needs_background": "light"
     },
     "output_type": "display_data"
    }
   ],
   "source": [
    "#model.load_state_dict(torch.load((model_path)))\n",
    "trainer.train(train_dataset, dev_dataset, HParam.n_iter)"
   ]
  },
  {
   "cell_type": "code",
   "execution_count": 22,
   "metadata": {
    "colab": {},
    "colab_type": "code",
    "id": "PGuufNNG8Zw4"
   },
   "outputs": [],
   "source": [
    "torch.save(trainer.model.state_dict(), model_path)\n",
    "torch.save(trainer.model.word_embedding, embedding_layer_path)"
   ]
  },
  {
   "cell_type": "markdown",
   "metadata": {
    "colab_type": "text",
    "id": "H36PYPZ28ZxC"
   },
   "source": [
    "# Predict the test set"
   ]
  },
  {
   "cell_type": "code",
   "execution_count": 17,
   "metadata": {
    "colab": {},
    "colab_type": "code",
    "id": "77pDDtpU8ZxE"
   },
   "outputs": [],
   "source": [
    "#Encode tokens and labels\n",
    "test_sentences_enc = encode_sentences(test_sentences, sentences_vocabulary)\n",
    "test_labels_enc = encode_labels(test_labels, labels_vocabulary)\n",
    "\n",
    "#Create a vocabulary from number to labels\n",
    "labels_reverse_vocabulary = create_labels_reverse_vocabulary()\n",
    "\n",
    "#Predict all the sentences\n",
    "sentences_pred = predict_labels(test_sentences_enc,model,labels_reverse_vocabulary)"
   ]
  },
  {
   "cell_type": "markdown",
   "metadata": {
    "colab_type": "text",
    "id": "sCUC_j8P8ZxO"
   },
   "source": [
    "### Compute the confusion matrix as heatmap and F1 score of test set"
   ]
  },
  {
   "cell_type": "code",
   "execution_count": 18,
   "metadata": {
    "colab": {
     "base_uri": "https://localhost:8080/",
     "height": 191
    },
    "colab_type": "code",
    "id": "ymT8vPfA8ZxS",
    "outputId": "aaf7e432-50b2-4f16-9a4f-5b95fb7416c3"
   },
   "outputs": [],
   "source": [
    "# Flatten the predicted sentences to compute f1_score and confusion matrix\n",
    "pred_list = [label for sentence in sentences_pred for label in sentence]\n",
    "true_list = [label for sentence in test_labels for label in sentence]"
   ]
  },
  {
   "cell_type": "code",
   "execution_count": 19,
   "metadata": {
    "colab": {},
    "colab_type": "code",
    "id": "xSyuNN7-8Zxl",
    "scrolled": true
   },
   "outputs": [
    {
     "name": "stdout",
     "output_type": "stream",
     "text": [
      "0.910072979440641\n"
     ]
    },
    {
     "data": {
      "image/png": "[encoded data removed]",
      "text/plain": [
       "<Figure size 504x360 with 2 Axes>"
      ]
     },
     "metadata": {
      "needs_background": "light"
     },
     "output_type": "display_data"
    }
   ],
   "source": [
    "array = confusion_matrix(true_list, pred_list, labels=[\"O\", \"ORG\", \"LOC\", \"PER\"], normalize='true')\n",
    "df_cm = pd.DataFrame(array, index = [\"O\", \"ORG\", \"LOC\", \"PER\"],\n",
    "                  columns = [\"O\", \"ORG\", \"LOC\", \"PER\"])\n",
    "plt.figure(figsize = (7,5))\n",
    "sn.heatmap(df_cm, annot=True)\n",
    "\n",
    "print (f1_score(true_list, pred_list, average='macro'))"
   ]
  }
 ],
 "metadata": {
  "colab": {
   "collapsed_sections": [],
   "name": "main.ipynb",
   "provenance": []
  },
  "kernelspec": {
   "display_name": "Python 3",
   "language": "python",
   "name": "python3"
  },
  "language_info": {
   "codemirror_mode": {
    "name": "ipython",
    "version": 3
   },
   "file_extension": ".py",
   "mimetype": "text/x-python",
   "name": "python",
   "nbconvert_exporter": "python",
   "pygments_lexer": "ipython3",
   "version": "3.7.5"
  }
 },
 "nbformat": 4,
 "nbformat_minor": 1
}
